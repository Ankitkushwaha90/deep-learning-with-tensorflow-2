{
 "cells": [
  {
   "cell_type": "code",
   "execution_count": 1,
   "id": "92c53c20",
   "metadata": {},
   "outputs": [],
   "source": [
    "import numpy as np\n",
    "from matplotlib import pyplot as plt\n",
    "import pandas"
   ]
  },
  {
   "cell_type": "code",
   "execution_count": null,
   "id": "7ba87eca",
   "metadata": {},
   "outputs": [],
   "source": [
    "def prepare_dataset(filename):\n",
    "    '''\n",
    "    ###### Objective\n",
    "    A function used to extract data from the csv file and preprocess it, such that it can be\n",
    "    used by our machine learning algorithm\n",
    "    \n",
    "    ### Input\n",
    "    filename\n",
    "    \n",
    "    #### Output\n",
    "    Input and output of machine learning model (in this case, a linear regression model)\n",
    "    \n",
    "    '''\n",
    "    \n",
    "    dataframe = pandas.read_csv(filename)\n",
    "    print(dataframe)\n",
    "    \n",
    "    X1,X2 = [],[]\n",
    "    \n",
    "    for item,row in dataframe.iterrows():\n",
    "        X1.append(row['X1'])\n",
    "        X2.append(row['X2'])\n",
    "        \n",
    "    for i in range(len(X1)):\n",
    "        X.append([1,X2[i]])\n",
    "        Y.append([X1[i]])\n",
    "        \n",
    "    X = np.array(X)\n",
    "    Y = np.array(Y)\n",
    "    \n",
    "    theta1_theta2 = np.linalg.inv(X.T@X)@X.T@Y\n",
    "    print(theta1_theta2)\n",
    "    \n",
    "    return X,Y, theta1_theta2"
   ]
  },
  {
   "cell_type": "code",
   "execution_count": null,
   "id": "70623a07",
   "metadata": {},
   "outputs": [],
   "source": [
    "X,Y, theta1_theta2 = prepare_dataset('health.csv')"
   ]
  },
  {
   "cell_type": "code",
   "execution_count": null,
   "id": "3dc19586",
   "metadata": {},
   "outputs": [],
   "source": [
    "np.random.seed(20)\n",
    "\n",
    "EPOCHS = 10\n",
    "LR = 0.1\n",
    "BATCH_SIZE = X.shape[0]\n",
    "\n",
    "theta = np.random.randn(X.shape[1],1)\n",
    "loss = []\n",
    "\n",
    "for i in range(EPOCHS):\n",
    "    epoch_loss = 0.0\n",
    "    \n",
    "    for b in range(0,len(X),BATCH_SIZE):\n",
    "        d_theta = (X[b:b+BATCH_SIZE].T@(X[b:b+BATCH_SIZE]@theta - Y[b:b+BATCH_SIZE]))/BATCH_SIZE\n",
    "        theta -= LR*(d_theta)##########gradient descent step\n",
    "        epoch_loss += (np.square(Y[b:b+BATCH_SIZE]-(x[b:b+BATCH_SIZE]@theta)).mean())\n",
    "    loss.append(epoch_loss)\n",
    "\n",
    "print('The loss at the end of training is ==', loss[-1])\n",
    "plt.plot(range(1,EPOCHS+1),loss)\n",
    "plt.ylabel('MSE')\n",
    "plt.xlabel('Number of epochs')\n",
    "plt.show()\n",
    "print(theta)"
   ]
  },
  {
   "cell_type": "code",
   "execution_count": null,
   "id": "5b39201f",
   "metadata": {},
   "outputs": [],
   "source": [
    "dataframe = pandas.read_csv('health.csv')\n",
    "\n",
    "X2 = []\n",
    "X1 = []\n",
    "\n",
    "for item,row in dataframe.iterrows():\n",
    "    X2.append(row['X2'])\n",
    "    X1.append(row['X1'])\n",
    "\n",
    "X = [i for i in range(0,230)]\n",
    "Y = [(theta1_theta2[0]*i+ (theta1_theta2[1]*i)) for i in range(0,230)]\n",
    "\n",
    "plt.scatter(X2,X1, marker='+')\n",
    "plt.plot(X,Y, color='red')\n",
    "plt.ylabel('X1')\n",
    "plt.xlabel('X2')\n",
    "plt.show()"
   ]
  },
  {
   "cell_type": "code",
   "execution_count": null,
   "id": "677ef1bc",
   "metadata": {},
   "outputs": [],
   "source": []
  },
  {
   "cell_type": "code",
   "execution_count": null,
   "id": "2d775589",
   "metadata": {},
   "outputs": [],
   "source": []
  },
  {
   "cell_type": "code",
   "execution_count": null,
   "id": "03d1e358",
   "metadata": {},
   "outputs": [],
   "source": []
  }
 ],
 "metadata": {
  "kernelspec": {
   "display_name": "Python 3 (ipykernel)",
   "language": "python",
   "name": "python3"
  },
  "language_info": {
   "codemirror_mode": {
    "name": "ipython",
    "version": 3
   },
   "file_extension": ".py",
   "mimetype": "text/x-python",
   "name": "python",
   "nbconvert_exporter": "python",
   "pygments_lexer": "ipython3",
   "version": "3.7.7"
  }
 },
 "nbformat": 4,
 "nbformat_minor": 5
}

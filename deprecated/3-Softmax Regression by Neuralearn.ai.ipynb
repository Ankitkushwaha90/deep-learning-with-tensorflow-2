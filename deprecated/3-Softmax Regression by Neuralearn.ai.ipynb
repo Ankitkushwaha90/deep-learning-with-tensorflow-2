{
 "cells": [
  {
   "cell_type": "code",
   "execution_count": null,
   "id": "f46cab9c",
   "metadata": {},
   "outputs": [],
   "source": [
    "import numpy as np\n",
    "from matplotlib import pyplot as plt\n",
    "import pandas"
   ]
  },
  {
   "cell_type": "code",
   "execution_count": null,
   "id": "587e98b0",
   "metadata": {},
   "outputs": [],
   "source": [
    "def generate_one_hot(value):\n",
    "    one_hot = [0.0]*26\n",
    "    one_hot[value] = 1.0\n",
    "    return one_hot"
   ]
  },
  {
   "cell_type": "code",
   "execution_count": null,
   "id": "3bdc144d",
   "metadata": {},
   "outputs": [],
   "source": [
    "def prepare_dataset(filename):\n",
    "    '''\n",
    "    ###### Objective\n",
    "    A function used to extract data from the csv file and preprocess it, such that it can be\n",
    "    used by our machine learning algorithm\n",
    "    \n",
    "    ### Input\n",
    "    filename\n",
    "    \n",
    "    #### Output\n",
    "    Input and output of machine learning model (in this case, a SOFTMAX classification model)\n",
    "    \n",
    "    '''\n",
    "    alphabet = {\"A\":0,\"B\":1,\"C\":2,\"D\":3,\"E\":4,\"F\":5,\"G\":6,\"H\":7,\"I\":8,\"J\":9,\n",
    "               \"K\":10,\"L\":11,\"M\":12,\"N\":13,\"O\":14,\"P\":15,\"Q\":16,\"R\":17,\"S\":18,\"T\":19,\n",
    "               \"U\":20,\"V\":21,\"W\":22,\"X\":23,\"Y\":24,\"Z\":25}\n",
    "    \n",
    "    dataframe = pandas.read_csv(filename)\n",
    "    \n",
    "    X = []\n",
    "    Y = []\n",
    "    Y_hot = []\n",
    "    \n",
    "    for item,row in dataframe.iterrows():\n",
    "        X1.append([1,row['INPUT1'],row['INPUT2'],row['INPUT3'],row['INPUT4'],row['INPUT5'],row['INPUT6'],row['INPUT7'],row['INPUT8'],row['INPUT9'],row['INPUT10'],row['INPUT11'],row['INPUT12'],row['INPUT13'],row['INPUT14'],row['INPUT15'],row['INPUT16']])\n",
    "        X2.append([row['LETTER']])\n",
    "    X = np.array(X)\n",
    "    Y = np.array(Y)\n",
    "        \n",
    "    for i in Y:\n",
    "        Y_hot.append(generate_one_hot(alphabet[i[0]]))\n",
    "    Y_hot = np.array(Y_hot)\n",
    "    \n",
    "    return X,Y_hot\n",
    "\n",
    "X,Y = prepare_dataset('letter-recognition.csv')\n"
   ]
  },
  {
   "cell_type": "code",
   "execution_count": null,
   "id": "12a09886",
   "metadata": {},
   "outputs": [],
   "source": [
    "def softmax(X):\n",
    "    k = np.sum(np.exp(X), axis = 1)\n",
    "    t = 0\n",
    "    X_out = []\n",
    "    \n",
    "    for i in X:\n",
    "        X_out.append(list(np.exp(i)/k[t]))\n",
    "        t += 1\n",
    "    return np.array(X_out)"
   ]
  },
  {
   "cell_type": "code",
   "execution_count": null,
   "id": "96853fa1",
   "metadata": {},
   "outputs": [],
   "source": [
    "def cce_loss(y_pred, y_true):\n",
    "    loss = y_true*np.log(y_pred)\n",
    "    return -np.sum(loss)/len(y_pred)"
   ]
  },
  {
   "cell_type": "code",
   "execution_count": null,
   "id": "592dff02",
   "metadata": {},
   "outputs": [],
   "source": [
    "np.random.seed(100)\n",
    "\n",
    "X = X[0:10000]\n",
    "Y = Y[0:10000]\n",
    "\n",
    "\n",
    "EPOCHS = 100\n",
    "LR = 1e-2\n",
    "\n",
    "BATCH_SIZE = X.shape[0]\n",
    "OUTPUT_SIZE = 26\n",
    "PRINT_FREQUENCY = 50\n",
    "\n",
    "theta = np.random.randn(X.shape[1],OUTPUT_SIZE)\n",
    "\n",
    "loss = []\n",
    "best_theta = theta\n",
    "best_loss = np.inf\n",
    "\n",
    "for i in range(EPOCHS):\n",
    "    epoch_loss = 0.0\n",
    "    for b in range(0,len(X), BATCH_SIZE):\n",
    "        model_output = softmax(X[b:b+BATCH_SIZE]@theta)\n",
    "        \n",
    "        d_theta = (X[b:b+BATCH_SIZE].T@(((model_output - Y[b:b+BATCH_SIZE]))))\n",
    "        theta -= LR*(d_theta)################## gradient descent step\n",
    "        \n",
    "        epoch_loss += cce_loss(model_output, Y[b:b+BATCH_SIZE])\n",
    "    if(epoch_loss<best_loss):\n",
    "        best_loss = epoch_loss\n",
    "        best_theta = theta\n",
    "    if i%PRINT_FREQUENCY == 0:\n",
    "        print('Epoch number = '+str(i)+'----> Loss = '+str(epoch_loss))\n",
    "    \n",
    "    loss.append(epoch_loss)\n",
    "    \n",
    "print('The loss at the end of training is ==', loss[-1])\n",
    "print('The best loss is ==', best_loss)\n",
    "\n",
    "plt.plot(range(1,EPOCHS+1),loss)\n",
    "plt.ylabel('CCE')\n",
    "plt.xlabel('Number of epochs')\n",
    "plt.show()\n",
    "print(theta)\n"
   ]
  }
 ],
 "metadata": {
  "kernelspec": {
   "display_name": "Python 3 (ipykernel)",
   "language": "python",
   "name": "python3"
  },
  "language_info": {
   "codemirror_mode": {
    "name": "ipython",
    "version": 3
   },
   "file_extension": ".py",
   "mimetype": "text/x-python",
   "name": "python",
   "nbconvert_exporter": "python",
   "pygments_lexer": "ipython3",
   "version": "3.7.7"
  }
 },
 "nbformat": 4,
 "nbformat_minor": 5
}

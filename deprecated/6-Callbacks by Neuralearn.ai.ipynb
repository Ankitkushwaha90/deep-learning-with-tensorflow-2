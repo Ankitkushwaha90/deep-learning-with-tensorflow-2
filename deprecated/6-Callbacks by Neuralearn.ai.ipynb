{
 "cells": [
  {
   "cell_type": "code",
   "execution_count": null,
   "id": "9f15758c",
   "metadata": {},
   "outputs": [],
   "source": [
    "import tensorflow as tf\n",
    "from tensorflow import keras\n",
    "import os\n",
    "import numpy as np\n",
    "from tensorflow.keras.models import Sequential\n",
    "from tensorflow.keras.layers. imoprt Dense, Conv2D, MaxPooling2D, Flatten\n",
    "from tensorflow.keras.optimizers import SGD\n",
    "from tensorflow.keras.metrics import CategoricalAccuracy\n",
    "from tensorflow.keras.losses import CategoricalCrossentropy, SparseCategoricalCrossentropy\n",
    "from tensorflow.keras.layers.experimental import preprocessing\n",
    "import time\n",
    "import pandas as pd\n",
    "from shutil import copy2\n",
    "import numpy as np\n",
    "from matplotlib import pyplot as plt"
   ]
  },
  {
   "cell_type": "code",
   "execution_count": null,
   "id": "4929959d",
   "metadata": {},
   "outputs": [],
   "source": [
    "train_directory = '...'\n",
    "validation_directory = '...'\n",
    "world_files = '...'\n",
    "dst = '...'\n",
    "INPUT_DIM = ..."
   ]
  },
  {
   "cell_type": "code",
   "execution_count": null,
   "id": "23a4602f",
   "metadata": {},
   "outputs": [],
   "source": [
    "train_dataset = tf.keras.preprocessing.image_dataset_from_directory(\n",
    "    train_directory,\n",
    "    image_size = (INPUT_DIM, INPUT_DIM),\n",
    "    batch_size = 4096)\n"
   ]
  },
  {
   "cell_type": "code",
   "execution_count": null,
   "id": "4874d49f",
   "metadata": {},
   "outputs": [],
   "source": [
    "val_dataset = tf.keras.preprocessing.image_dataset_from_directory(\n",
    "    validation_directory,\n",
    "    image_size = (INPUT_DIM, INPUT_DIM),\n",
    "    batch_size = 4096)\n"
   ]
  },
  {
   "cell_type": "code",
   "execution_count": null,
   "id": "bf944585",
   "metadata": {},
   "outputs": [],
   "source": [
    "base_model = tf.keras.application.VGG16(input_shape=(64,64,3),\n",
    "                                       include_top=False,\n",
    "                                       weights='imagenet')\n",
    "model = base_model\n",
    "model.summary()"
   ]
  },
  {
   "cell_type": "code",
   "execution_count": null,
   "id": "05526b5d",
   "metadata": {},
   "outputs": [],
   "source": [
    "feature_maps = [layer.output for layer in model.layers]\n",
    "activation_model = Model(inputs = model.input, outputs=feature_maps)\n",
    "activation_model.summary()"
   ]
  },
  {
   "cell_type": "code",
   "execution_count": null,
   "id": "d2b9a1b8",
   "metadata": {},
   "outputs": [],
   "source": [
    "test_image = '...'\n",
    "image = tf.keras.preprocessing.image.load_img(test_image, color_mode='rgb', target_size=(224,224))\n",
    "image = tf.convert_to_tensor(tf.keras.preprocessing.image.img_to_array(image))/255.\n",
    "activations = activation_model.predict(tf.expand_dims(image,axis=0))"
   ]
  },
  {
   "cell_type": "code",
   "execution_count": null,
   "id": "2b11f908",
   "metadata": {},
   "outputs": [],
   "source": [
    "image_size=5\n",
    "num_of_channels=4\n",
    "\n",
    "for i in range(1,len(activations)):\n",
    "    print('feature map number--->',i)\n",
    "    \n",
    "    axes=[]\n",
    "    fig=plt.figure()\n",
    "    \n",
    "    fig.set_figheight(image_size)\n",
    "    fig.set_figwidth(image_size)\n",
    "    \n",
    "    for channel in range(num_of_channels):\n",
    "        axes.append(fig.add_subplot(int(np.sqrt(num_of_channels)), int(np.sqrt(num_of_channels)), channel+1))\n",
    "        subplot_title=(\"Channel\"+str(channel))\n",
    "        axes[-1].set_title(subplot_title)\n",
    "        plt.imshow(action[i][0,:,:,channel])\n",
    "    fig.tight_layout()\n",
    "    plt.show()"
   ]
  },
  {
   "cell_type": "code",
   "execution_count": null,
   "id": "b2400ffb",
   "metadata": {},
   "outputs": [],
   "source": []
  },
  {
   "cell_type": "code",
   "execution_count": null,
   "id": "c429b563",
   "metadata": {},
   "outputs": [],
   "source": [
    "backbone = MobileNetV2(input_shape=(224,224,3),include_top=False,weights='imagenet')\n",
    "backbone.summary()"
   ]
  },
  {
   "cell_type": "code",
   "execution_count": null,
   "id": "78e88eee",
   "metadata": {},
   "outputs": [],
   "source": [
    "backbone.trainable=False"
   ]
  },
  {
   "cell_type": "code",
   "execution_count": null,
   "id": "0fca27b5",
   "metadata": {},
   "outputs": [],
   "source": []
  },
  {
   "cell_type": "code",
   "execution_count": null,
   "id": "59481726",
   "metadata": {},
   "outputs": [],
   "source": [
    "inputs = Input(shape=(64,64,3))\n",
    "x= backbone(inputs)\n",
    "x = GlobalAveragePooling2D(x)\n",
    "x = Dense(1000)(x)\n",
    "outputs = Dense(200, activation='softmax')(x)\n",
    "model = Model(inputs,outputs)"
   ]
  },
  {
   "cell_type": "code",
   "execution_count": null,
   "id": "6959601f",
   "metadata": {},
   "outputs": [],
   "source": [
    "model.summary()"
   ]
  },
  {
   "cell_type": "code",
   "execution_count": null,
   "id": "f3454d03",
   "metadata": {},
   "outputs": [],
   "source": [
    "logdir = '...'\n",
    "file_writer=tf.summary.create_file_writer(logdir='/params')\n",
    "file_writer.set_as_default()"
   ]
  },
  {
   "cell_type": "code",
   "execution_count": null,
   "id": "9382884d",
   "metadata": {},
   "outputs": [],
   "source": [
    "class LossCallback(tf.kears.callbacks.Callback):\n",
    "    def on_train_batch_end(self,batch,logs=None):\n",
    "        print('for batch {},loss is {:.2f}'.format(batch,logs['loss']))\n",
    "        \n",
    "    def on_epoch_end(self,epoch,logs=None):\n",
    "        print('epoch {} loss and metrics are {:.2f}'.format(epoch,logs))"
   ]
  },
  {
   "cell_type": "code",
   "execution_count": null,
   "id": "fc261909",
   "metadata": {},
   "outputs": [],
   "source": [
    "def lrscheduler(epoch,lr):\n",
    "    lr_init=1e-5\n",
    "    if epoch<5:\n",
    "        lr=lr_init\n",
    "    elif epoch>=5 or epoch<10:\n",
    "        lr=lr_init*10\n",
    "    else:\n",
    "        lr=lr*0.01\n",
    "    tf.summary.scalar('learning rate', data=lr,step=epoch)\n",
    "    return lr"
   ]
  },
  {
   "cell_type": "code",
   "execution_count": null,
   "id": "6a10107d",
   "metadata": {},
   "outputs": [],
   "source": [
    "lr_scheduler = tf.keras.callbacks.LearningRateScheduler(lrscheduler)"
   ]
  },
  {
   "cell_type": "code",
   "execution_count": null,
   "id": "79b26690",
   "metadata": {},
   "outputs": [],
   "source": [
    "lr_plateau = tf.keras.callbacks.ReduceLROnPlateau(monitor='loss',factor=0.5,patience=3,min_lr=1e-6)"
   ]
  },
  {
   "cell_type": "code",
   "execution_count": null,
   "id": "7585ea94",
   "metadata": {},
   "outputs": [],
   "source": [
    "lr_scheduler = tf.keras.callbacks.EarlyStopping(monitor='val_loss',patience=5,mode='auto')"
   ]
  },
  {
   "cell_type": "code",
   "execution_count": null,
   "id": "07b6e293",
   "metadata": {},
   "outputs": [],
   "source": [
    "checkpoint=tf.keras.callbacks.ModelCheckpoint(\n",
    "    filepath=checkpoint_filepath,\n",
    "    save_weights_only=True,\n",
    "    monitor='val_loss',\n",
    "    mode='min',\n",
    "    save_best_only=True\n",
    "    )"
   ]
  },
  {
   "cell_type": "code",
   "execution_count": null,
   "id": "f11f7fea",
   "metadata": {},
   "outputs": [],
   "source": [
    "t_callback=tf.keras.callbacks.TensorBoard(log_dir=logdir)"
   ]
  },
  {
   "cell_type": "code",
   "execution_count": null,
   "id": "2f889f78",
   "metadata": {},
   "outputs": [],
   "source": []
  },
  {
   "cell_type": "code",
   "execution_count": null,
   "id": "6fcf9b06",
   "metadata": {},
   "outputs": [],
   "source": [
    "model.compile(optimizer=Adam(lr=1e-3),\n",
    "             loss=SparseCategoricalCrossentropy(),\n",
    "             metrics=[SparseCategoricalAccuracy(),SparseTopKCategoricalAccuracy(k=5)])"
   ]
  },
  {
   "cell_type": "code",
   "execution_count": null,
   "id": "0415b053",
   "metadata": {},
   "outputs": [],
   "source": [
    "NUM_EPOCHS = 15\n",
    "history=model.fit(train_dataset,validation_data=val_dataset,epochs=NUM_EPOCHS,callbacks=[...])"
   ]
  },
  {
   "cell_type": "code",
   "execution_count": null,
   "id": "4faf564d",
   "metadata": {},
   "outputs": [],
   "source": [
    "%tensorboard --logdir imagenet_logs/scalars"
   ]
  },
  {
   "cell_type": "code",
   "execution_count": null,
   "id": "c9f31590",
   "metadata": {},
   "outputs": [],
   "source": [
    "\n",
    "plt.plot(history.history['loss'])\n",
    "plt.plot(history.history['val_loss'])\n",
    "\n",
    "\n",
    "plt.plot(history.history['sparse_categorical_accuracy'])\n",
    "plt.plot(history.history['val_sparse_categorical_accuracy'])\n",
    "\n",
    "\n",
    "plt.plot(history.history['sparse_top_k_categorical_accuracy'])\n",
    "plt.plot(history.history['val_sparse_top_k_categorical_accuracy'])\n",
    "\n",
    "plt.legend(['train', 'val',\n",
    "            'sparse_categorical_accuracy','val_sparse_categorical_accuracy',\n",
    "            'val_sparse_top_k_categorical_accuracy'], loc='upper left')\n",
    "plt.show()"
   ]
  },
  {
   "cell_type": "code",
   "execution_count": null,
   "id": "7e3ffdb1",
   "metadata": {},
   "outputs": [],
   "source": []
  },
  {
   "cell_type": "code",
   "execution_count": null,
   "id": "ff1e52d7",
   "metadata": {},
   "outputs": [],
   "source": []
  },
  {
   "cell_type": "code",
   "execution_count": null,
   "id": "7efc29a1",
   "metadata": {},
   "outputs": [],
   "source": []
  }
 ],
 "metadata": {
  "kernelspec": {
   "display_name": "Python 3 (ipykernel)",
   "language": "python",
   "name": "python3"
  },
  "language_info": {
   "codemirror_mode": {
    "name": "ipython",
    "version": 3
   },
   "file_extension": ".py",
   "mimetype": "text/x-python",
   "name": "python",
   "nbconvert_exporter": "python",
   "pygments_lexer": "ipython3",
   "version": "3.7.7"
  }
 },
 "nbformat": 4,
 "nbformat_minor": 5
}

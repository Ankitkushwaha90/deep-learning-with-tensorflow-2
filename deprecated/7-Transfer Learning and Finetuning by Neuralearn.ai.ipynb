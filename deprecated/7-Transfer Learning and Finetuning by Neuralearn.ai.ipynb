{
 "cells": [
  {
   "cell_type": "code",
   "execution_count": null,
   "id": "9f15758c",
   "metadata": {},
   "outputs": [],
   "source": [
    "import tensorflow as tf\n",
    "from tensorflow import keras\n",
    "import os\n",
    "import numpy as np\n",
    "from tensorflow.keras.models import Sequential\n",
    "from tensorflow.keras.layers. imoprt Dense, Conv2D, MaxPooling2D, Flatten\n",
    "from tensorflow.keras.optimizers import SGD\n",
    "from tensorflow.keras.metrics import CategoricalAccuracy\n",
    "from tensorflow.keras.losses import CategoricalCrossentropy, SparseCategoricalCrossentropy\n",
    "from tensorflow.keras.layers.experimental import preprocessing\n",
    "import time\n",
    "import pandas as pd\n",
    "from shutil import copy2\n",
    "import numpy as np\n",
    "from matplotlib import pyplot as plt"
   ]
  },
  {
   "cell_type": "code",
   "execution_count": null,
   "id": "4929959d",
   "metadata": {},
   "outputs": [],
   "source": [
    "train_directory = '...'\n",
    "validation_directory = '...'\n",
    "world_files = '...'\n",
    "dst = '...'\n",
    "INPUT_DIM = ..."
   ]
  },
  {
   "cell_type": "code",
   "execution_count": null,
   "id": "23a4602f",
   "metadata": {},
   "outputs": [],
   "source": [
    "train_dataset = tf.keras.preprocessing.image_dataset_from_directory(\n",
    "    train_directory,\n",
    "    image_size = (INPUT_DIM, INPUT_DIM),\n",
    "    batch_size = 4096)\n"
   ]
  },
  {
   "cell_type": "code",
   "execution_count": null,
   "id": "4874d49f",
   "metadata": {},
   "outputs": [],
   "source": [
    "val_dataset = tf.keras.preprocessing.image_dataset_from_directory(\n",
    "    validation_directory,\n",
    "    image_size = (INPUT_DIM, INPUT_DIM),\n",
    "    batch_size = 4096)\n"
   ]
  },
  {
   "cell_type": "code",
   "execution_count": null,
   "id": "bf944585",
   "metadata": {},
   "outputs": [],
   "source": [
    "base_model = tf.keras.application.VGG16(input_shape=(64,64,3),\n",
    "                                       include_top=False,\n",
    "                                       weights='imagenet')\n",
    "model = base_model\n",
    "model.summary()"
   ]
  },
  {
   "cell_type": "code",
   "execution_count": null,
   "id": "05526b5d",
   "metadata": {},
   "outputs": [],
   "source": [
    "feature_maps = [layer.output for layer in model.layers]\n",
    "activation_model = Model(inputs = model.input, outputs=feature_maps)\n",
    "activation_model.summary()"
   ]
  },
  {
   "cell_type": "code",
   "execution_count": null,
   "id": "d2b9a1b8",
   "metadata": {},
   "outputs": [],
   "source": [
    "test_image = '...'\n",
    "image = tf.keras.preprocessing.image.load_img(test_image, color_mode='rgb', target_size=(224,224))\n",
    "image = tf.convert_to_tensor(tf.keras.preprocessing.image.img_to_array(image))/255.\n",
    "activations = activation_model.predict(tf.expand_dims(image,axis=0))"
   ]
  },
  {
   "cell_type": "code",
   "execution_count": null,
   "id": "2b11f908",
   "metadata": {},
   "outputs": [],
   "source": [
    "image_size=5\n",
    "num_of_channels=4\n",
    "\n",
    "for i in range(1,len(activations)):\n",
    "    print('feature map number--->',i)\n",
    "    \n",
    "    axes=[]\n",
    "    fig=plt.figure()\n",
    "    \n",
    "    fig.set_figheight(image_size)\n",
    "    fig.set_figwidth(image_size)\n",
    "    \n",
    "    for channel in range(num_of_channels):\n",
    "        axes.append(fig.add_subplot(int(np.sqrt(num_of_channels)), int(np.sqrt(num_of_channels)), channel+1))\n",
    "        subplot_title=(\"Channel\"+str(channel))\n",
    "        axes[-1].set_title(subplot_title)\n",
    "        plt.imshow(action[i][0,:,:,channel])\n",
    "    fig.tight_layout()\n",
    "    plt.show()"
   ]
  },
  {
   "cell_type": "code",
   "execution_count": null,
   "id": "b2400ffb",
   "metadata": {},
   "outputs": [],
   "source": []
  },
  {
   "cell_type": "code",
   "execution_count": null,
   "id": "c429b563",
   "metadata": {},
   "outputs": [],
   "source": [
    "backbone = MobileNetV2(input_shape=(224,224,3),include_top=False,weights='imagenet')\n",
    "backbone.summary()"
   ]
  },
  {
   "cell_type": "code",
   "execution_count": null,
   "id": "78e88eee",
   "metadata": {},
   "outputs": [],
   "source": [
    "backbone.trainable=False\n",
    "backbone.layers[0].trainable=False"
   ]
  },
  {
   "cell_type": "code",
   "execution_count": null,
   "id": "0fca27b5",
   "metadata": {},
   "outputs": [],
   "source": [
    "backbone.layers[1]"
   ]
  },
  {
   "cell_type": "code",
   "execution_count": null,
   "id": "793ac6a5",
   "metadata": {},
   "outputs": [],
   "source": [
    "inputs = Input(shape=(64,64,3))\n",
    "x= backbone(inputs)\n",
    "x = GlobalAveragePooling2D(x)\n",
    "x = Dense(1000)(x)\n",
    "outputs = Dense(200, activation='softmax')(x)\n",
    "model = Model(inputs,outputs)"
   ]
  },
  {
   "cell_type": "code",
   "execution_count": null,
   "id": "1444c459",
   "metadata": {},
   "outputs": [],
   "source": [
    "model.summary()"
   ]
  },
  {
   "cell_type": "code",
   "execution_count": null,
   "id": "0d1e68a7",
   "metadata": {},
   "outputs": [],
   "source": [
    "model.compile(optimizer=Adam(lr=1e-3),\n",
    "             loss=SparseCategoricalCrossentropy(),\n",
    "             metrics=[SparseCategoricalAccuracy(),SparseTopKCategoricalAccuracy(k=5)])"
   ]
  },
  {
   "cell_type": "code",
   "execution_count": null,
   "id": "a6581e2f",
   "metadata": {},
   "outputs": [],
   "source": [
    "NUM_EPOCHS = 15\n",
    "history=model.fit(train_dataset,validation_data=val_dataset,epochs=NUM_EPOCHS)"
   ]
  },
  {
   "cell_type": "code",
   "execution_count": null,
   "id": "27d5ebf0",
   "metadata": {},
   "outputs": [],
   "source": [
    "\n",
    "plt.plot(history.history['loss'])\n",
    "plt.plot(history.history['val_loss'])\n",
    "\n",
    "\n",
    "plt.plot(history.history['sparse_categorical_accuracy'])\n",
    "plt.plot(history.history['val_sparse_categorical_accuracy'])\n",
    "\n",
    "\n",
    "plt.plot(history.history['sparse_top_k_categorical_accuracy'])\n",
    "plt.plot(history.history['val_sparse_top_k_categorical_accuracy'])\n",
    "\n",
    "plt.legend(['train', 'val',\n",
    "            'sparse_categorical_accuracy','val_sparse_categorical_accuracy',\n",
    "            'val_sparse_top_k_categorical_accuracy'], loc='upper left')\n",
    "plt.show()"
   ]
  },
  {
   "cell_type": "code",
   "execution_count": null,
   "id": "9bc09d0e",
   "metadata": {},
   "outputs": [],
   "source": []
  },
  {
   "cell_type": "code",
   "execution_count": null,
   "id": "53294db8",
   "metadata": {},
   "outputs": [],
   "source": [
    "backbone.layers[1]\n",
    "i=0\n",
    "while True:\n",
    "    try:\n",
    "        backbone.layers[i]\n",
    "        i+=1\n",
    "    except:\n",
    "        break\n",
    "print(i)"
   ]
  },
  {
   "cell_type": "code",
   "execution_count": null,
   "id": "335637f7",
   "metadata": {},
   "outputs": [],
   "source": [
    "selected_index=0\n",
    "for i in range(155):\n",
    "    if bacbone.get_layer('block_15_expand')==backbone.layers[i]:\n",
    "        selected_index=1\n",
    "        break\n",
    "print(selected_index)\n",
    "backbone.layers[134]"
   ]
  }
 ],
 "metadata": {
  "kernelspec": {
   "display_name": "Python 3 (ipykernel)",
   "language": "python",
   "name": "python3"
  },
  "language_info": {
   "codemirror_mode": {
    "name": "ipython",
    "version": 3
   },
   "file_extension": ".py",
   "mimetype": "text/x-python",
   "name": "python",
   "nbconvert_exporter": "python",
   "pygments_lexer": "ipython3",
   "version": "3.7.7"
  }
 },
 "nbformat": 4,
 "nbformat_minor": 5
}

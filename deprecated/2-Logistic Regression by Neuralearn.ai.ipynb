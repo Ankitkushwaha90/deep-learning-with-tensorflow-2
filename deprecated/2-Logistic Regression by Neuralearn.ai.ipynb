{
 "cells": [
  {
   "cell_type": "code",
   "execution_count": 4,
   "id": "3ffc022e",
   "metadata": {},
   "outputs": [],
   "source": [
    "import numpy as np\n",
    "from matplotlib import pyplot as plt\n",
    "import pandas"
   ]
  },
  {
   "cell_type": "code",
   "execution_count": 5,
   "id": "0a08f4f0",
   "metadata": {},
   "outputs": [],
   "source": [
    "def prepare_dataset(filename):\n",
    "    '''\n",
    "    ###### Objective\n",
    "    A function used to extract data from the csv file and preprocess it, such that it can be\n",
    "    used by our machine learning algorithm\n",
    "    \n",
    "    ### Input\n",
    "    filename\n",
    "    \n",
    "    #### Output\n",
    "    Input and output of machine learning model (in this case, a logistic regression model)\n",
    "    \n",
    "    '''\n",
    "    \n",
    "    dataframe = pandas.read_csv(filename)\n",
    "    \n",
    "    X1,X2,X3 = [],[],[]\n",
    "    X,Y = [],[]\n",
    "    \n",
    "    for item,row in dataframe.iterrows():\n",
    "        X1.append(row['EXAM1'])\n",
    "        X2.append(row['EXAM2'])\n",
    "        X3.append(row['FINAL'])\n",
    "        \n",
    "    for i in range(len(X1)):\n",
    "        X.append([1,X1[i]/100,X2[i]/100])\n",
    "        if X3[i]>160:\n",
    "            Y.append([1])\n",
    "        else:\n",
    "            Y.append([0])\n",
    "        \n",
    "    X = np.array(X)\n",
    "    Y = np.array(Y)\n",
    "    \n",
    "    return X,Y"
   ]
  },
  {
   "cell_type": "code",
   "execution_count": null,
   "id": "732da12d",
   "metadata": {},
   "outputs": [],
   "source": [
    "X,Y = prepare_dataset('exam.csv')"
   ]
  },
  {
   "cell_type": "code",
   "execution_count": null,
   "id": "3fd8343c",
   "metadata": {},
   "outputs": [],
   "source": [
    "def sigmoid(x):\n",
    "    return 1/(1+np.exp(-x))"
   ]
  },
  {
   "cell_type": "code",
   "execution_count": null,
   "id": "f1cd6e01",
   "metadata": {},
   "outputs": [],
   "source": [
    "def sigmoid_proba(x):\n",
    "    if sigmoid(x)>0.5:\n",
    "        return 1\n",
    "    else:\n",
    "        return 0"
   ]
  },
  {
   "cell_type": "code",
   "execution_count": null,
   "id": "9332d1a4",
   "metadata": {},
   "outputs": [],
   "source": [
    "np.random.seed(100)\n",
    "\n",
    "EPOCHS = 10\n",
    "LR = 1e-1\n",
    "\n",
    "BATCH_SIZE = X.shape[0]\n",
    "\n",
    "theta = np.random.randn(X.shape[1],1)\n",
    "\n",
    "loss = []\n",
    "\n",
    "for i in range(EPOCHS):\n",
    "    epoch_loss = 0.0\n",
    "    for b in range(0,len(X), BATCH_SIZE):\n",
    "        model_output = sigmoid(X[b:b+BATCH_SIZE]@theta)\n",
    "        \n",
    "        d_theta = (X[b:b+BATCH_SIZE].T@(((model_output - Y[b:b+BATCH_SIZE]))))\n",
    "        theta -= LR*(d_theta)################## gradient descent step\n",
    "        \n",
    "        epoch_loss += -((Y[b:b+BATCH_SIZE]*np.log(model_output)) + ((1-Y[b:b+BATCH_SIZE])*np.log(1-model_output))).mean()\n",
    "    loss.append(epoch_loss)\n",
    "    \n",
    "print('The loss at the end of training is ==', loss[-1])\n",
    "plt.plot(range(1,EPOCHS+1),loss)\n",
    "plt.ylabel('BCE')\n",
    "plt.xlabel('Number of epochs')\n",
    "plt.show()\n",
    "print(theta)\n"
   ]
  },
  {
   "cell_type": "code",
   "execution_count": null,
   "id": "646c286b",
   "metadata": {},
   "outputs": [],
   "source": [
    "dataframe = pandas.read_csv('exam.csv')\n",
    "\n",
    "X2 = []\n",
    "X1 = []\n",
    "\n",
    "for item,row in dataframe.iterrows():\n",
    "    X1.append(row['EXAM1'])\n",
    "    X2.append(row['EXAM2'])\n",
    "\n",
    "categories = Y.reshape((len(Y)))\n",
    "\n",
    "colormap = np.array(['r','g'])\n",
    "plt.scatter(X1,X2, s=20,c+colormap[categories])\n",
    "\n",
    "x1 = []\n",
    "x2 = []\n",
    "y = []\n",
    "\n",
    "for i in range(40,100):\n",
    "    for j in range(40,100):\n",
    "        x1.append(i)\n",
    "        x2.append(j)\n",
    "        model_output = sigmoid_proba(np.array([1,i/100,j/100])@theta)\n",
    "        y.append(model_output)\n",
    "categories = y\n",
    "\n",
    "plt.scatter(x1,x2, s=1,c=colormap[categories])\n",
    "\n",
    "plt.ylabel('EXAM1')\n",
    "plt.xlabel('EXAM2')\n",
    "plt.show()"
   ]
  },
  {
   "cell_type": "code",
   "execution_count": null,
   "id": "00f3f0cd",
   "metadata": {},
   "outputs": [],
   "source": []
  }
 ],
 "metadata": {
  "kernelspec": {
   "display_name": "Python 3 (ipykernel)",
   "language": "python",
   "name": "python3"
  },
  "language_info": {
   "codemirror_mode": {
    "name": "ipython",
    "version": 3
   },
   "file_extension": ".py",
   "mimetype": "text/x-python",
   "name": "python",
   "nbconvert_exporter": "python",
   "pygments_lexer": "ipython3",
   "version": "3.7.7"
  }
 },
 "nbformat": 4,
 "nbformat_minor": 5
}

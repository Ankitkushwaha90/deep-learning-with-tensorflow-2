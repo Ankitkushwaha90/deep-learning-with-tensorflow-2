{
 "cells": [
  {
   "cell_type": "code",
   "execution_count": null,
   "id": "f9cb825c",
   "metadata": {},
   "outputs": [],
   "source": [
    "import tensorflow as tf\n",
    "from tensorflow.keras.layers.experimental.preprocessing import TextVectorization\n",
    "from tensorflow.keras.preprocessing import text_dataset_from_directory\n",
    "from tensorflow.keras.layers import SimpleRNN,LSTM\n",
    "import numpy as np\n",
    "import re\n",
    "import string\n",
    "import nltk\n",
    "import numpy as np\n",
    "from matplotlib import pyplot as plt\n",
    "import pandas"
   ]
  },
  {
   "cell_type": "code",
   "execution_count": null,
   "id": "273cbb58",
   "metadata": {},
   "outputs": [],
   "source": [
    "train_directory = '...'\n",
    "val_directory = '...'"
   ]
  },
  {
   "cell_type": "code",
   "execution_count": null,
   "id": "5e4a1f83",
   "metadata": {},
   "outputs": [],
   "source": [
    "train_dataset = text_dataset_from_directory(\n",
    "        train_directory,\n",
    ")"
   ]
  },
  {
   "cell_type": "code",
   "execution_count": null,
   "id": "9db3ff46",
   "metadata": {},
   "outputs": [],
   "source": [
    "val_dataset = text_dataset_from_directory(\n",
    "        val_directory,\n",
    "        shuffle,\n",
    ")"
   ]
  },
  {
   "cell_type": "code",
   "execution_count": null,
   "id": "22a3da8d",
   "metadata": {},
   "outputs": [],
   "source": [
    "for review,label in train_dataset.take(1):\n",
    "    print('Review',review)\n",
    "    print('Label',label)"
   ]
  },
  {
   "cell_type": "code",
   "execution_count": null,
   "id": "f01b64b8",
   "metadata": {},
   "outputs": [],
   "source": [
    "def preprocess_sentences(input_data):\n",
    "    '''\n",
    "    Input: raw reviews\n",
    "    output: standardized reviews\n",
    "    '''\n",
    "    output=tf.strings.lower(input_data)\n",
    "    outputs=tf.strings.regex_replace(output,\"<[^>]+>\",\"\")\n",
    "    outputs=tf.strings.regex_replace(output,\"<[%s]\"%re.esceape(string.punctuation),\" \")\n",
    "    outputs=tf.strings.regex_replace(output,\"  \",\" \")\n",
    "    \n",
    "    return output"
   ]
  },
  {
   "cell_type": "code",
   "execution_count": null,
   "id": "4f7e9ca8",
   "metadata": {},
   "outputs": [],
   "source": [
    "VOCAB_SIZE = 2000\n",
    "SEQUENCE_LENGTH = 100\n",
    "\n",
    "vectorize_layer=TextVectorization(\n",
    "    standardize = preprocess_sentences,\n",
    "    max_tokens=VOCAB_SIZE,\n",
    "    output_mode='int',\n",
    "    output_sequence_length=SEQUENCE_LENGTH\n",
    ")"
   ]
  },
  {
   "cell_type": "code",
   "execution_count": null,
   "id": "e940043a",
   "metadata": {},
   "outputs": [],
   "source": [
    "training_data= train_dataset.map(lambda x,y:x)### input x and y and outputx\n",
    "vectorize_layer.adapt(training_data)#### adapt the vectorize_layer to the training data"
   ]
  },
  {
   "cell_type": "code",
   "execution_count": null,
   "id": "4c0e75a0",
   "metadata": {},
   "outputs": [],
   "source": [
    "def vectorizer(review,label):\n",
    "    return tf.one_hot(vectorize_layer(review),depth=VOCAB_SIZE),label"
   ]
  },
  {
   "cell_type": "code",
   "execution_count": null,
   "id": "e5334df0",
   "metadata": {},
   "outputs": [],
   "source": [
    "train_datastee=train_dataset.map(vectorizer)\n",
    "val_datastee=val_dataset.map(vectorizer)"
   ]
  },
  {
   "cell_type": "code",
   "execution_count": null,
   "id": "08e2d8c6",
   "metadata": {},
   "outputs": [],
   "source": [
    "for review,label in train_dataset.take(1):\n",
    "    print('Review',review)\n",
    "    print('Label',label)"
   ]
  },
  {
   "cell_type": "code",
   "execution_count": null,
   "id": "0d14db11",
   "metadata": {},
   "outputs": [],
   "source": [
    "vectorize_layer.get_vocabulary()"
   ]
  },
  {
   "cell_type": "code",
   "execution_count": null,
   "id": "2b587e77",
   "metadata": {},
   "outputs": [],
   "source": [
    "train_dataset"
   ]
  },
  {
   "cell_type": "code",
   "execution_count": null,
   "id": "b87fe806",
   "metadata": {},
   "outputs": [],
   "source": [
    "train_dataset=train_dataset.cache().prefetch(buffer_size=AUTOTUNE)\n",
    "val_dataset=val_dataset.cache().prefetch(buffer_size=AUTOTUNE)"
   ]
  },
  {
   "cell_type": "code",
   "execution_count": null,
   "id": "b15e5c5a",
   "metadata": {},
   "outputs": [],
   "source": [
    "class RNNCell(tf.keras.layer.Layer):\n",
    "    def __init__(self,units=4,hidden_size=7):\n",
    "        super(RNNCell,self).__init__()\n",
    "        \n",
    "        self.units=units\n",
    "        self.hidden_size=hidden_size\n",
    "    def build(self,input_shape):\n",
    "        \n",
    "        self.w_hh=self.add_weight(\n",
    "            shape=(self.hidden_size,self.hidden_size),\n",
    "            initializer='random_normal',\n",
    "            trainable=True)\n",
    "        \n",
    "        self.w_hx=self.add_weight(\n",
    "            shape=(input_shape[-1],self.hidden_size),\n",
    "            initializer='random_normal',\n",
    "            trainable=True)\n",
    "        \n",
    "        self.w_yh=self.add_weight(\n",
    "            shape=(self.hidden_size,self.units),\n",
    "            initializer='random_normal',\n",
    "            trainable=True)\n",
    "        \n",
    "        self.b_h=self.add_weight(\n",
    "            shape=(self.hidden_size,),\n",
    "            initializer='random_normal',\n",
    "            trainable=True)\n",
    "        \n",
    "        self.b_y=self.add_weight(\n",
    "            shape=(self.units,),\n",
    "            initializer='random_normal',\n",
    "            trainable=True)\n",
    "    def call(self,inputs,h_prev=None):\n",
    "        if h_prev ==None:\n",
    "            h_prev = tf.zeros([inputs.shape[0],self.hidden_size])\n",
    "        h=tf.nn.tanh(tf.matmul(h_prev,self.w_hh)+tf.matmul(inputs,self.w_hx)+self.b_h)\n",
    "        h=tf.nn.tanh(tf.matmul(h,self.w_yh)+self.b_y)\n",
    "        return tf.constant(h),tf.constant(y)"
   ]
  },
  {
   "cell_type": "code",
   "execution_count": null,
   "id": "662d7adf",
   "metadata": {},
   "outputs": [],
   "source": [
    "class RNN(tf.keras.layers.Layer):\n",
    "    def __init__(self,units):\n",
    "        super(RNN,self).__init__():\n",
    "        self.rnn=RNNCell(units)\n",
    "        \n",
    "    def call(self,inputs):\n",
    "        outputs = []\n",
    "        h,y=self.rnn(inputs[:,0,:])\n",
    "        outputs.append(y)\n",
    "        \n",
    "        for i in range(i,inputs.shape[-2]):\n",
    "            h,y=self.rnn(inputs[:,i,:],h)\n",
    "            outputs.append(y)\n",
    "        shape=np.array(ouputs).shape\n",
    "        return tf.reshape(outputs,[shape[1],shape[0],shape[2]])"
   ]
  },
  {
   "cell_type": "code",
   "execution_count": null,
   "id": "d36f27d0",
   "metadata": {},
   "outputs": [],
   "source": [
    "inputs=tf.zeros([8,100,2000])\n",
    "layer=SimpleRNN(4,activation='tanh',use_bias=True,return_sequences=False,name='layer1')\n",
    "outputs=layer(inputs)"
   ]
  },
  {
   "cell_type": "code",
   "execution_count": null,
   "id": "22df0040",
   "metadata": {},
   "outputs": [],
   "source": [
    "inputs=tf.keras.layers.Input(shape=(SEQUENCE_LENGTH,VOCAB_SIZE))\n",
    "\n",
    "EMBEDDING_DIM=100\n",
    "embedding=tf.keras.layers.Embedding(VOCAB_SIZE,EMBEDDING_DIM)\n",
    "model=tf.keras.models.Sequential([\n",
    "    inputs,\n",
    "    tf.keras.layers.LSTM(20,activation='tanh',use_bias=True,return_sequences=True,name='layer1'),\n",
    "    tf.keras.layers.Dense(1,activation='relu',name='layer2'),\n",
    "    tf.keras.layers.Reshape((SEQUENCE_LENGTH,)name='layer3'),\n",
    "    tf.keras.layers.Dense(1,activation='sigmoid',name='layer4'),\n",
    "])\n",
    "model.summary()"
   ]
  },
  {
   "cell_type": "code",
   "execution_count": null,
   "id": "ecb3c70e",
   "metadata": {},
   "outputs": [],
   "source": [
    "LR = 1e-4\n",
    "EPOCH = 50\n",
    "model.compile(\n",
    "    loss=tf.keras.losses.BinaryCrossentropy(from_logits=True),\n",
    "    optimizer=tf.keras.optimizers.Adam(lr=LR),\n",
    "    metrics=['accuracy'])"
   ]
  },
  {
   "cell_type": "code",
   "execution_count": null,
   "id": "3eb66419",
   "metadata": {},
   "outputs": [],
   "source": [
    "checkpoint_filepath='...'\n",
    "callback=tf.keras.callbacks.ModelCheckpoint(\n",
    "    filepath=checkpoint_filepath,\n",
    "    save_weights_only=True,\n",
    "    monitor='loss',\n",
    "    mode='min',\n",
    "    save_best_only=True\n",
    ")"
   ]
  },
  {
   "cell_type": "code",
   "execution_count": null,
   "id": "8f0572ec",
   "metadata": {},
   "outputs": [],
   "source": [
    "history=model.fit(train_dataset,validation_data=val_dataset,verbose=1,epochs=EPOCH,callbcaks=[callback])"
   ]
  },
  {
   "cell_type": "code",
   "execution_count": null,
   "id": "799502b0",
   "metadata": {},
   "outputs": [],
   "source": [
    "\n",
    "plt.plot(history.history['loss'])\n",
    "plt.plot(history.history['val_loss'])\n",
    "\n",
    "plt.title('model_loss')\n",
    "plt.ylabel('loss')\n",
    "plt.xlabel('epoch')\n",
    "plt.legend(['train', 'val'], loc='upper left')\n",
    "plt.show()"
   ]
  },
  {
   "cell_type": "code",
   "execution_count": null,
   "id": "dba56da6",
   "metadata": {},
   "outputs": [],
   "source": [
    "test_data=tf.data.Dataset.from_tensor_slices([[\"This is a bad movie, i really didn't love it\"],\n",
    "                                              [\"I really loved the movie, it reminds me of my past\"],])"
   ]
  },
  {
   "cell_type": "code",
   "execution_count": null,
   "id": "14402c4c",
   "metadata": {},
   "outputs": [],
   "source": [
    "def vectorizer_test(review):\n",
    "    return tf.one_hot(vectorize_layer(review),depth=VOCAB_SIZE)"
   ]
  },
  {
   "cell_type": "code",
   "execution_count": null,
   "id": "15f03c87",
   "metadata": {},
   "outputs": [],
   "source": [
    "test_dataset=test_data.map(vectorizer_test)"
   ]
  },
  {
   "cell_type": "code",
   "execution_count": null,
   "id": "23077fa1",
   "metadata": {},
   "outputs": [],
   "source": [
    "model.predict(test_dataset)"
   ]
  },
  {
   "cell_type": "code",
   "execution_count": null,
   "id": "e9534932",
   "metadata": {},
   "outputs": [],
   "source": []
  }
 ],
 "metadata": {
  "kernelspec": {
   "display_name": "Python 3 (ipykernel)",
   "language": "python",
   "name": "python3"
  },
  "language_info": {
   "codemirror_mode": {
    "name": "ipython",
    "version": 3
   },
   "file_extension": ".py",
   "mimetype": "text/x-python",
   "name": "python",
   "nbconvert_exporter": "python",
   "pygments_lexer": "ipython3",
   "version": "3.7.7"
  }
 },
 "nbformat": 4,
 "nbformat_minor": 5
}

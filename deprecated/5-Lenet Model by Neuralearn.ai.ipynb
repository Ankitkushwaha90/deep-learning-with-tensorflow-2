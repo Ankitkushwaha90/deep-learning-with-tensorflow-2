{
 "cells": [
  {
   "cell_type": "code",
   "execution_count": null,
   "id": "4d8e0693",
   "metadata": {},
   "outputs": [],
   "source": [
    "import tensorflow as tf\n",
    "from tensorflow import keras\n",
    "import os\n",
    "import numpy as np\n",
    "from tensorflow.keras.models import Sequential\n",
    "from tensorflow.keras.layers. imoprt Dense, Conv2D, MaxPooling2D, Flatten\n",
    "from tensorflow.keras.optimizers import SGD\n",
    "from tensorflow.keras.metrics import CategoricalAccuracy\n",
    "from tensorflow.keras.losses import CategoricalCrossentropy, SparseCategoricalCrossentropy\n",
    "from tensorflow.keras.layers.experimental import preprocessing\n",
    "import time\n",
    "import pandas as pd\n",
    "from shutil import copy2"
   ]
  },
  {
   "cell_type": "code",
   "execution_count": null,
   "id": "853c175f",
   "metadata": {},
   "outputs": [],
   "source": [
    "train_directory = '...'\n",
    "validation_directory = '...'\n",
    "world_files = '...'\n",
    "dst = '...'\n",
    "INPUT_DIM = ..."
   ]
  },
  {
   "cell_type": "code",
   "execution_count": null,
   "id": "73810aca",
   "metadata": {},
   "outputs": [],
   "source": [
    "train_dataset = tf.keras.preprocessing.image_dataset_from_directory(\n",
    "    train_directory,\n",
    "    image_size = (INPUT_DIM, INPUT_DIM),\n",
    "    batch_size = 4096)\n"
   ]
  },
  {
   "cell_type": "code",
   "execution_count": null,
   "id": "06744b5a",
   "metadata": {},
   "outputs": [],
   "source": [
    "val_dataset = tf.keras.preprocessing.image_dataset_from_directory(\n",
    "    validation_directory,\n",
    "    image_size = (INPUT_DIM, INPUT_DIM),\n",
    "    batch_size = 4096)\n"
   ]
  },
  {
   "cell_type": "code",
   "execution_count": null,
   "id": "8e1dfb01",
   "metadata": {},
   "outputs": [],
   "source": [
    "model = Sequential(name = 'lenet')\n",
    "model.add(tf.keras.Input(shape=(64,64,3)))\n",
    "\n",
    "model.add(preprocessing.Rescaling(1/255.))\n",
    "\n",
    "model.add(Conv2D(6,5,activation='relu', name ='conv1'))\n",
    "model.add(MaxPooling2D(pool_size=2, strides=2, name='maxpool1'))\n",
    "model.add(Conv2D(16,5,activation='relu', name ='conv2'))\n",
    "model.add(MaxPooling2D(pool_size=2, strides=2, name='maxpool2'))\n",
    "\n",
    "model.add(Flatten())\n",
    "model.add(Dense(1000, activation='relu', name ='dense1'))\n",
    "model.add(Dense(200, activation='softmax', name ='dense1'))\n",
    "model.summary()"
   ]
  },
  {
   "cell_type": "code",
   "execution_count": null,
   "id": "7baa984f",
   "metadata": {},
   "outputs": [],
   "source": [
    "model.compile(optimizer='adam', loss=SparseCategoricalCrossentropy(), metrics=['accuracy'])"
   ]
  },
  {
   "cell_type": "code",
   "execution_count": null,
   "id": "58501d02",
   "metadata": {},
   "outputs": [],
   "source": [
    "epochs = 1000\n",
    "history = model.fit(train_dataset, validation_data=val_dataset, epochs)"
   ]
  },
  {
   "cell_type": "code",
   "execution_count": null,
   "id": "20ab4f47",
   "metadata": {},
   "outputs": [],
   "source": [
    "model.save('lenet.h5')"
   ]
  },
  {
   "cell_type": "code",
   "execution_count": null,
   "id": "7086af64",
   "metadata": {},
   "outputs": [],
   "source": [
    "import numpy as np\n",
    "from matplotlib import pyplot as plt\n",
    "import pandas\n",
    "\n",
    "plt.plot(history.history['loss'][0:60])\n",
    "plt.plot(history.history['val_loss'][0:60])\n",
    "\n",
    "plt.title('model_losss')\n",
    "plt.ylabel('loss')\n",
    "plt.xlabel('epoch')\n",
    "plt.legend(['train', 'val'], loc='upper left')\n",
    "plt.show()"
   ]
  },
  {
   "cell_type": "code",
   "execution_count": null,
   "id": "fbb49aff",
   "metadata": {},
   "outputs": [],
   "source": []
  }
 ],
 "metadata": {
  "kernelspec": {
   "display_name": "Python 3 (ipykernel)",
   "language": "python",
   "name": "python3"
  },
  "language_info": {
   "codemirror_mode": {
    "name": "ipython",
    "version": 3
   },
   "file_extension": ".py",
   "mimetype": "text/x-python",
   "name": "python",
   "nbconvert_exporter": "python",
   "pygments_lexer": "ipython3",
   "version": "3.7.7"
  }
 },
 "nbformat": 4,
 "nbformat_minor": 5
}
